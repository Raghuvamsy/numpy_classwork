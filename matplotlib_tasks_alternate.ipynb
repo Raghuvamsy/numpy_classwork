{
 "cells": [
  {
   "cell_type": "markdown",
   "id": "03da52bf",
   "metadata": {},
   "source": [
    "# Matplotlib Tasks (Alternate Version)\n",
    "\n",
    "This notebook contains modified versions of the previous Matplotlib tasks with different variable names and alternative implementations."
   ]
  },
  {
   "cell_type": "markdown",
   "id": "f3d8a95b",
   "metadata": {},
   "source": [
    "## Task 1: Read data and create a dataframe\n",
    "A new dataset is created with different variable names."
   ]
  },
  {
   "cell_type": "code",
   "execution_count": null,
   "id": "a9297ddf",
   "metadata": {},
   "outputs": [],
   "source": [
    "import numpy as np\n",
    "import pandas as pd\n",
    "import matplotlib.pyplot as plt\n",
    "import matplotlib.image as mpimg\n",
    "\n",
    "# Generate random dataset\n",
    "dataset = {'A': np.arange(1, 11), 'B1': np.random.randint(5, 30, 10), 'B2': np.random.randint(5, 30, 10)}\n",
    "data_frame = pd.DataFrame(dataset)\n",
    "data_frame"
   ]
  },
  {
   "cell_type": "markdown",
   "id": "e399bd6f",
   "metadata": {},
   "source": [
    "## Task 2: Create a modified line plot\n",
    "Different colors and line styles are used for better visualization."
   ]
  },
  {
   "cell_type": "code",
   "execution_count": null,
   "id": "0538507c",
   "metadata": {},
   "outputs": [],
   "source": [
    "plt.figure()\n",
    "plt.plot(data_frame['A'], data_frame['B1'], label=\"First Dataset\", color='blue', linewidth=2)\n",
    "plt.plot(data_frame['A'], data_frame['B2'], label=\"Second Dataset\", color='green', linestyle=\"dashed\")\n",
    "plt.legend()\n",
    "plt.title(\"Modified Line Plot\")\n",
    "plt.xlabel(\"Index A\")\n",
    "plt.ylabel(\"Values\")\n",
    "plt.grid(True)\n",
    "plt.show()"
   ]
  },
  {
   "cell_type": "markdown",
   "id": "10ad8904",
   "metadata": {},
   "source": [
    "## Task 3: Line plots with different styles\n",
    "This version uses different markers and colors."
   ]
  },
  {
   "cell_type": "code",
   "execution_count": null,
   "id": "9f183f9e",
   "metadata": {},
   "outputs": [],
   "source": [
    "plt.figure()\n",
    "plt.plot(data_frame['A'], data_frame['B1'], linestyle='dotted', marker='x', color='red', label=\"Dotted with X markers\")\n",
    "plt.plot(data_frame['A'], data_frame['B2'], linestyle='solid', marker='d', color='purple', label=\"Solid with Diamond markers\")\n",
    "plt.legend()\n",
    "plt.show()"
   ]
  },
  {
   "cell_type": "markdown",
   "id": "b8044ca1",
   "metadata": {},
   "source": [
    "## Task 4: Define limits and ticks\n",
    "New range and tick intervals are defined."
   ]
  },
  {
   "cell_type": "code",
   "execution_count": null,
   "id": "6098a033",
   "metadata": {},
   "outputs": [],
   "source": [
    "plt.figure()\n",
    "plt.plot(data_frame['A'], data_frame['B1'], color='orange', marker='o')\n",
    "plt.xlim(0, 12)\n",
    "plt.ylim(0, 35)\n",
    "plt.xticks(np.arange(0, 13, 3))\n",
    "plt.yticks(np.arange(0, 36, 7))\n",
    "plt.title(\"Line Plot with Custom Limits & Ticks\")\n",
    "plt.show()"
   ]
  },
  {
   "cell_type": "markdown",
   "id": "c62db78d",
   "metadata": {},
   "source": [
    "## Task 5: Koch Snowflake (Alternative Version)\n",
    "A different function name and fill color are used."
   ]
  },
  {
   "cell_type": "code",
   "execution_count": null,
   "id": "b2e160e4",
   "metadata": {},
   "outputs": [],
   "source": [
    "import numpy as np\n",
    "\n",
    "def koch_snowflake_v2(order, scale=10):\n",
    "    def curve(order, p1, p2):\n",
    "        if order == 0:\n",
    "            return [p1, p2]\n",
    "        else:\n",
    "            p1, p5 = np.array(p1), np.array(p2)\n",
    "            delta = (p5 - p1) / 3\n",
    "            p2 = p1 + delta\n",
    "            p4 = p5 - delta\n",
    "            angle = np.pi / 3\n",
    "            rot_matrix = np.array([[np.cos(angle), -np.sin(angle)], [np.sin(angle), np.cos(angle)]])\n",
    "            p3 = p2 + np.dot(rot_matrix, delta)\n",
    "            return curve(order-1, p1, p2) + curve(order-1, p2, p3) + curve(order-1, p3, p4) + curve(order-1, p4, p5)[1:]\n",
    "    \n",
    "    points = curve(order, [0, 0], [scale, 0]) + curve(order, [scale, 0], [scale/2, scale*np.sqrt(3)/2])[1:] + curve(order, [scale/2, scale*np.sqrt(3)/2], [0, 0])[1:]\n",
    "    return np.array(points)\n",
    "\n",
    "plt.figure()\n",
    "snowflake_v2 = koch_snowflake_v2(3)\n",
    "plt.fill(snowflake_v2[:, 0], snowflake_v2[:, 1], 'pink')\n",
    "plt.show()"
   ]
  },
  {
   "cell_type": "markdown",
   "id": "2da017f7",
   "metadata": {},
   "source": [
    "## Task 6: Line plot for comparison"
   ]
  },
  {
   "cell_type": "code",
   "execution_count": null,
   "id": "01cadd3a",
   "metadata": {},
   "outputs": [],
   "source": [
    "plt.figure()\n",
    "plt.plot(data_frame['A'], data_frame['B1'], label=\"Group 1\", linestyle=\"solid\", marker=\"o\")\n",
    "plt.plot(data_frame['A'], data_frame['B2'], label=\"Group 2\", linestyle=\"dashed\", marker=\"s\")\n",
    "plt.legend()\n",
    "plt.show()"
   ]
  },
  {
   "cell_type": "markdown",
   "id": "11e8bc79",
   "metadata": {},
   "source": [
    "## Task 7: Subplots"
   ]
  },
  {
   "cell_type": "code",
   "execution_count": null,
   "id": "5857bcd1",
   "metadata": {},
   "outputs": [],
   "source": [
    "fig, axs = plt.subplots(2, 2)\n",
    "axs[0, 0].plot(data_frame['A'], data_frame['B1'], color=\"cyan\")\n",
    "axs[0, 1].scatter(data_frame['A'], data_frame['B2'], color=\"magenta\")\n",
    "axs[1, 0].bar(data_frame['A'], data_frame['B1'], color=\"gray\")\n",
    "axs[1, 1].pie(data_frame['B1'], labels=data_frame['A'])\n",
    "plt.show()"
   ]
  },
  {
   "cell_type": "markdown",
   "id": "547353b0",
   "metadata": {},
   "source": [
    "## Task 8: Legends at various positions"
   ]
  },
  {
   "cell_type": "code",
   "execution_count": null,
   "id": "4143e58e",
   "metadata": {},
   "outputs": [],
   "source": [
    "plt.figure()\n",
    "plt.plot(data_frame['A'], data_frame['B1'], label=\"Bottom Right\", linestyle=\"-.\")\n",
    "plt.legend(loc='lower right')\n",
    "plt.show()"
   ]
  },
  {
   "cell_type": "markdown",
   "id": "a5b1e01b",
   "metadata": {},
   "source": [
    "## Task 9: Overlapping plots"
   ]
  },
  {
   "cell_type": "code",
   "execution_count": null,
   "id": "ce34e54f",
   "metadata": {},
   "outputs": [],
   "source": [
    "plt.figure()\n",
    "plt.plot(data_frame['A'], data_frame['B1'], label=\"Data A\", alpha=0.5, color=\"blue\")\n",
    "plt.plot(data_frame['A'], data_frame['B2'], label=\"Data B\", alpha=0.5, color=\"green\")\n",
    "plt.legend()\n",
    "plt.show()"
   ]
  },
  {
   "cell_type": "markdown",
   "id": "500386ec",
   "metadata": {},
   "source": [
    "## Task 10: Scatter plot with colormap"
   ]
  },
  {
   "cell_type": "code",
   "execution_count": null,
   "id": "699cc7e8",
   "metadata": {},
   "outputs": [],
   "source": [
    "plt.figure()\n",
    "plt.scatter(data_frame['A'], data_frame['B1'], c=data_frame['B1'], cmap='coolwarm')\n",
    "plt.colorbar()\n",
    "plt.show()"
   ]
  },
  {
   "cell_type": "markdown",
   "id": "b41166b7",
   "metadata": {},
   "source": [
    "## Task 11: Bubble chart"
   ]
  },
  {
   "cell_type": "code",
   "execution_count": null,
   "id": "1f51723f",
   "metadata": {},
   "outputs": [],
   "source": [
    "plt.figure()\n",
    "plt.scatter(data_frame['A'], data_frame['B1'], s=data_frame['B1']*40, alpha=0.6, c=data_frame['B1'], cmap='cividis')\n",
    "plt.colorbar()\n",
    "plt.show()"
   ]
  },
  {
   "cell_type": "markdown",
   "id": "47d11454",
   "metadata": {},
   "source": [
    "## Task 12: Bar chart"
   ]
  },
  {
   "cell_type": "code",
   "execution_count": null,
   "id": "c951db1a",
   "metadata": {},
   "outputs": [],
   "source": [
    "plt.figure()\n",
    "plt.bar(data_frame['A'], data_frame['B1'], color='brown')\n",
    "plt.show()"
   ]
  },
  {
   "cell_type": "markdown",
   "id": "632c198c",
   "metadata": {},
   "source": [
    "## Task 13: Comparative Bar Chart"
   ]
  },
  {
   "cell_type": "code",
   "execution_count": null,
   "id": "2726cd0c",
   "metadata": {},
   "outputs": [],
   "source": [
    "plt.figure()\n",
    "plt.bar(data_frame['A'] - 0.15, data_frame['B1'], width=0.3, label=\"B1\")\n",
    "plt.bar(data_frame['A'] + 0.15, data_frame['B2'], width=0.3, label=\"B2\")\n",
    "plt.legend()\n",
    "plt.show()"
   ]
  },
  {
   "cell_type": "markdown",
   "id": "76261a3f",
   "metadata": {},
   "source": [
    "## Task 14: Stack Plot"
   ]
  },
  {
   "cell_type": "code",
   "execution_count": null,
   "id": "b687eb80",
   "metadata": {},
   "outputs": [],
   "source": [
    "plt.figure()\n",
    "plt.stackplot(data_frame['A'], data_frame['B1'], data_frame['B2'], labels=[\"B1\", \"B2\"], alpha=0.6)\n",
    "plt.legend()\n",
    "plt.show()"
   ]
  },
  {
   "cell_type": "markdown",
   "id": "2de2673e",
   "metadata": {},
   "source": [
    "## Task 15: Different Pie plots"
   ]
  },
  {
   "cell_type": "code",
   "execution_count": null,
   "id": "57ad443a",
   "metadata": {},
   "outputs": [],
   "source": [
    "plt.figure()\n",
    "plt.pie(data_frame['B1'], labels=data_frame['A'], autopct='%1.2f%%', explode=[0.05]*len(data_frame['A']))\n",
    "plt.show()"
   ]
  }
 ],
 "metadata": {},
 "nbformat": 4,
 "nbformat_minor": 5
}
