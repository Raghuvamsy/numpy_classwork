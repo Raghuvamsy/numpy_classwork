{
 "cells": [
  {
   "cell_type": "markdown",
   "id": "9ac93cf0",
   "metadata": {},
   "source": [
    "# NumPy Sorting and Slicing\n",
    "This notebook demonstrates how to sort a NumPy array in descending order and how to slice and sort a specific portion of the array."
   ]
  },
  {
   "cell_type": "markdown",
   "id": "690282ef",
   "metadata": {},
   "source": [
    "## Sorting a NumPy Array in Descending Order\n",
    "We use `np.sort()` to sort the array and then reverse it using `[::-1]` to get the descending order."
   ]
  },
  {
   "cell_type": "markdown",
   "id": "2d8bd9f4",
   "metadata": {},
   "source": [
    "## Slicing Before Sorting\n",
    "We extract a portion of the array and then sort it in descending order."
   ]
  },
  {
   "cell_type": "markdown",
   "id": "cefcd384",
   "metadata": {},
   "source": [
    "## Modifying the Original Array\n",
    "We replace the sliced portion with its sorted version while keeping the rest of the array unchanged."
   ]
  },
  {
   "cell_type": "code",
   "execution_count": null,
   "id": "3e420778",
   "metadata": {},
   "outputs": [],
   "source": [
    "\n",
    "import numpy as np\n",
    "\n",
    "# Create a NumPy array\n",
    "arr = np.array([5, 2, 9, 1, 5, 6])\n",
    "\n",
    "# Sort in descending order\n",
    "sorted_arr = np.sort(arr)[::-1]\n",
    "print(\"Sorted array in descending order:\", sorted_arr)\n"
   ]
  },
  {
   "cell_type": "code",
   "execution_count": null,
   "id": "374554dd",
   "metadata": {},
   "outputs": [],
   "source": [
    "\n",
    "# Slice the array (index 1 to 4) and sort in descending order\n",
    "sliced_arr = arr[1:5]\n",
    "sorted_sliced_arr = np.sort(sliced_arr)[::-1]\n",
    "print(\"Sorted sliced array in descending order:\", sorted_sliced_arr)\n"
   ]
  },
  {
   "cell_type": "code",
   "execution_count": null,
   "id": "2b3b95d5",
   "metadata": {},
   "outputs": [],
   "source": [
    "\n",
    "# Modify the original array with sorted sliced part\n",
    "arr[1:5] = np.sort(arr[1:5])[::-1]\n",
    "print(\"Original array with sorted slice:\", arr)\n"
   ]
  }
 ],
 "metadata": {},
 "nbformat": 4,
 "nbformat_minor": 5
}
