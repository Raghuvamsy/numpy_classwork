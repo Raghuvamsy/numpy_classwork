{
 "cells": [
  {
   "cell_type": "markdown",
   "id": "2b515601-2aa6-4717-8736-1c93c95ed3cd",
   "metadata": {},
   "source": [
    "# Tasks for Pandas"
   ]
  },
  {
   "cell_type": "markdown",
   "id": "d8684991-859a-4c44-b8a4-807f6d2ece56",
   "metadata": {},
   "source": [
    "## 1. Install Pandas and check its version"
   ]
  },
  {
   "cell_type": "code",
   "execution_count": 1,
   "id": "2366a06f-62ea-454e-b0b5-4e031ca70d28",
   "metadata": {},
   "outputs": [
    {
     "name": "stdout",
     "output_type": "stream",
     "text": [
      "Defaulting to user installation because normal site-packages is not writeable\n",
      "Requirement already satisfied: pandas in c:\\users\\davul\\appdata\\roaming\\python\\python312\\site-packages (2.2.3)\n",
      "Requirement already satisfied: numpy>=1.26.0 in c:\\users\\davul\\appdata\\roaming\\python\\python312\\site-packages (from pandas) (2.2.2)\n",
      "Requirement already satisfied: python-dateutil>=2.8.2 in c:\\programdata\\anaconda3\\lib\\site-packages (from pandas) (2.9.0.post0)\n",
      "Requirement already satisfied: pytz>=2020.1 in c:\\programdata\\anaconda3\\lib\\site-packages (from pandas) (2024.1)\n",
      "Requirement already satisfied: tzdata>=2022.7 in c:\\users\\davul\\appdata\\roaming\\python\\python312\\site-packages (from pandas) (2025.1)\n",
      "Requirement already satisfied: six>=1.5 in c:\\programdata\\anaconda3\\lib\\site-packages (from python-dateutil>=2.8.2->pandas) (1.16.0)\n",
      "Note: you may need to restart the kernel to use updated packages.\n"
     ]
    }
   ],
   "source": [
    "pip install pandas\n"
   ]
  },
  {
   "cell_type": "code",
   "execution_count": 6,
   "id": "a0ced658-ed71-4a58-a5df-f26b979e3db5",
   "metadata": {},
   "outputs": [],
   "source": [
    "import pandas as pd"
   ]
  },
  {
   "cell_type": "markdown",
   "id": "dbbfe1cc-b860-467c-b151-bb81b18aa3e4",
   "metadata": {},
   "source": [
    "# Check the version of Pandas"
   ]
  },
  {
   "cell_type": "code",
   "execution_count": 7,
   "id": "8b70c099-2396-41c3-b4b7-5594e088e4c6",
   "metadata": {},
   "outputs": [
    {
     "name": "stdout",
     "output_type": "stream",
     "text": [
      "2.2.3\n"
     ]
    }
   ],
   "source": [
    "print(pd.__version__)"
   ]
  },
  {
   "cell_type": "markdown",
   "id": "5e367314-10ab-4256-9dbd-a010c9b5b799",
   "metadata": {},
   "source": [
    "## 2. Create a dataframe manually. Check the dataframe using .head() and .tail()."
   ]
  },
  {
   "cell_type": "code",
   "execution_count": 8,
   "id": "f26a27a4-9211-4bff-b621-3e09eaa591f7",
   "metadata": {},
   "outputs": [],
   "source": [
    "data = {\n",
    "    'Name': ['EFRON', 'SNEHASIS', 'OM', 'RAJESH', 'RAGHU'],\n",
    "    'Age': [24, 27, 22, 29,32],\n",
    "    'City': ['BANGALORE', 'SAKHIGOPAL', 'KHORDHA', 'BERHAMPUR', 'JATANI']\n",
    "}\n",
    "\n",
    "df = pd.DataFrame(data)"
   ]
  },
  {
   "cell_type": "code",
   "execution_count": 9,
   "id": "9d602003-2e53-4149-877a-7d1a62a0e415",
   "metadata": {},
   "outputs": [
    {
     "name": "stdout",
     "output_type": "stream",
     "text": [
      "       Name  Age        City\n",
      "0     EFRON   24   BANGALORE\n",
      "1  SNEHASIS   27  SAKHIGOPAL\n",
      "2        OM   22     KHORDHA\n",
      "3    RAJESH   29   BERHAMPUR\n",
      "4     RAGHU   32      JATANI\n",
      "       Name  Age        City\n",
      "0     EFRON   24   BANGALORE\n",
      "1  SNEHASIS   27  SAKHIGOPAL\n",
      "2        OM   22     KHORDHA\n",
      "3    RAJESH   29   BERHAMPUR\n",
      "4     RAGHU   32      JATANI\n"
     ]
    }
   ],
   "source": [
    "# Display the first 5 rows\n",
    "print(df.head())\n",
    "\n",
    "# Display the last 5 rows\n",
    "print(df.tail())"
   ]
  },
  {
   "cell_type": "markdown",
   "id": "3f7f1379-48a4-4260-80dd-e817c6fe5213",
   "metadata": {},
   "source": [
    "## 3. Show the attributes of panda dataframe."
   ]
  },
  {
   "cell_type": "code",
   "execution_count": 10,
   "id": "81dd037c-3680-4a91-8caa-f38d5670f020",
   "metadata": {},
   "outputs": [
    {
     "name": "stdout",
     "output_type": "stream",
     "text": [
      "Columns: Index(['Name', 'Age', 'City'], dtype='object')\n",
      "Index: RangeIndex(start=0, stop=5, step=1)\n",
      "Data Types: Name    object\n",
      "Age      int64\n",
      "City    object\n",
      "dtype: object\n",
      "Shape: (5, 3)\n"
     ]
    }
   ],
   "source": [
    "# Show the attributes of the DataFrame\n",
    "print(\"Columns:\", df.columns)\n",
    "print(\"Index:\", df.index)\n",
    "print(\"Data Types:\", df.dtypes)\n",
    "print(\"Shape:\", df.shape)"
   ]
  },
  {
   "cell_type": "markdown",
   "id": "4147d6e1-3679-4280-97b6-47a68131beb3",
   "metadata": {},
   "source": [
    "## 4.Renaming the indexes of dataframe."
   ]
  },
  {
   "cell_type": "code",
   "execution_count": 11,
   "id": "b6f8b275-a432-4325-9762-654a77bcfec0",
   "metadata": {},
   "outputs": [
    {
     "name": "stdout",
     "output_type": "stream",
     "text": [
      "       Name  Age        City\n",
      "A     EFRON   24   BANGALORE\n",
      "B  SNEHASIS   27  SAKHIGOPAL\n",
      "C        OM   22     KHORDHA\n",
      "D    RAJESH   29   BERHAMPUR\n",
      "E     RAGHU   32      JATANI\n"
     ]
    }
   ],
   "source": [
    "# Renaming the indexes\n",
    "df.rename(index={0: 'A', 1: 'B', 2: 'C', 3: 'D', 4: 'E'}, inplace=True)\n",
    "print(df)"
   ]
  },
  {
   "cell_type": "markdown",
   "id": "4a73265e-c426-4584-ad90-f2e3980fea58",
   "metadata": {},
   "source": [
    "## 5.Renaming headers of dataframe."
   ]
  },
  {
   "cell_type": "code",
   "execution_count": 12,
   "id": "0a03c323-5a3a-49a8-b21a-89da5fc3078e",
   "metadata": {},
   "outputs": [
    {
     "name": "stdout",
     "output_type": "stream",
     "text": [
      "  Full Name  Years    Location\n",
      "A     EFRON     24   BANGALORE\n",
      "B  SNEHASIS     27  SAKHIGOPAL\n",
      "C        OM     22     KHORDHA\n",
      "D    RAJESH     29   BERHAMPUR\n",
      "E     RAGHU     32      JATANI\n"
     ]
    }
   ],
   "source": [
    "# Renaming the headers\n",
    "df.rename(columns={'Name': 'Full Name', 'Age': 'Years', 'City': 'Location'}, inplace=True)\n",
    "print(df)"
   ]
  },
  {
   "cell_type": "markdown",
   "id": "3012faf8-27b8-49ec-bd27-b56dd96aaa3a",
   "metadata": {},
   "source": [
    "## 6. Load data from CSV file / Excel file / web site for creating a dataframe."
   ]
  },
  {
   "cell_type": "code",
   "execution_count": 13,
   "id": "58c088ea-8f47-4021-866c-15de558efcdc",
   "metadata": {},
   "outputs": [
    {
     "name": "stdout",
     "output_type": "stream",
     "text": [
      "       Name  Years        City\n",
      "0     EFRON     24   BANGALORE\n",
      "1  SNEHASIS     27  SAKHIGOPAL\n",
      "2        OM     22     KHORDHA\n",
      "3    RAJESH     29   BERHAMPUR\n",
      "4     RAGHU     32      JATANI\n"
     ]
    }
   ],
   "source": [
    "# Load data from the specified CSV file\n",
    "file_path = r'C:\\Users\\davul\\OneDrive\\Desktop\\2ndsem\\datavis\\people_data.csv'\n",
    "df = pd.read_csv(file_path)\n",
    "\n",
    "# Display the DataFrame\n",
    "print(df)"
   ]
  },
  {
   "cell_type": "markdown",
   "id": "96575bd0-07cd-4106-a746-7c414ce06b5b",
   "metadata": {},
   "source": [
    "## 7. Handling of missing values in Pandas dataframe"
   ]
  },
  {
   "cell_type": "code",
   "execution_count": 14,
   "id": "ceeb742b-f9c4-4376-a769-db5ec5da8468",
   "metadata": {},
   "outputs": [
    {
     "name": "stdout",
     "output_type": "stream",
     "text": [
      "       Name  Years        City   Age\n",
      "0     EFRON     24   BANGALORE   NaN\n",
      "1  SNEHASIS     27  SAKHIGOPAL  None\n",
      "2        OM     22     KHORDHA   NaN\n",
      "3    RAJESH     29   BERHAMPUR   NaN\n",
      "4     RAGHU     32      JATANI   NaN\n"
     ]
    }
   ],
   "source": [
    "# Introduce some missing values\n",
    "df.loc[1, 'Age'] = None\n",
    "\n",
    "# Handling missing values\n",
    "df.fillna(df.mean(numeric_only=True), inplace=True)  # Fill with mean for numeric columns\n",
    "print(df)"
   ]
  },
  {
   "cell_type": "markdown",
   "id": "a6b2d4a0-c1a2-4e31-a2c2-4f736cf92bc9",
   "metadata": {},
   "source": [
    "## 8. Sorting, Slicing and Extracting Data in pandas"
   ]
  },
  {
   "cell_type": "code",
   "execution_count": 15,
   "id": "cf1430e0-bdba-4b94-9149-4609f4c601cb",
   "metadata": {},
   "outputs": [
    {
     "name": "stdout",
     "output_type": "stream",
     "text": [
      "       Name  Years        City   Age\n",
      "2        OM     22     KHORDHA   NaN\n",
      "0     EFRON     24   BANGALORE   NaN\n",
      "1  SNEHASIS     27  SAKHIGOPAL  None\n",
      "3    RAJESH     29   BERHAMPUR   NaN\n",
      "4     RAGHU     32      JATANI   NaN\n",
      "       Name  Years        City   Age\n",
      "0     EFRON     24   BANGALORE   NaN\n",
      "1  SNEHASIS     27  SAKHIGOPAL  None\n"
     ]
    }
   ],
   "source": [
    "# Sorting the DataFrame by Age\n",
    "sorted_df = df.sort_values(by='Years')\n",
    "print(sorted_df)\n",
    "\n",
    "# Slicing the DataFrame\n",
    "sliced_df = df.iloc[0:2]  # First two rows\n",
    "print(sliced_df)"
   ]
  },
  {
   "cell_type": "markdown",
   "id": "047a2a27-5ff0-48d8-9249-2082353a91d3",
   "metadata": {},
   "source": [
    "## 9. Filtering dataframe using conditions."
   ]
  },
  {
   "cell_type": "code",
   "execution_count": 16,
   "id": "84c36d01-3567-48e9-8617-b5419f323016",
   "metadata": {},
   "outputs": [
    {
     "name": "stdout",
     "output_type": "stream",
     "text": [
      "       Name  Years        City   Age\n",
      "1  SNEHASIS     27  SAKHIGOPAL  None\n",
      "3    RAJESH     29   BERHAMPUR   NaN\n",
      "4     RAGHU     32      JATANI   NaN\n"
     ]
    }
   ],
   "source": [
    "# Filtering the DataFrame for Age greater than 25\n",
    "filtered_df = df[df['Years'] > 25]\n",
    "print(filtered_df)"
   ]
  },
  {
   "cell_type": "markdown",
   "id": "0bedb93b-bb3b-4c7a-9e08-556a3b2b9018",
   "metadata": {},
   "source": [
    "## 10. Isolating columns and rows."
   ]
  },
  {
   "cell_type": "code",
   "execution_count": 17,
   "id": "fa470911-6124-4041-99cb-d65f954ed70f",
   "metadata": {},
   "outputs": [
    {
     "name": "stdout",
     "output_type": "stream",
     "text": [
      "Years Column:\n",
      "0    24\n",
      "1    27\n",
      "2    22\n",
      "3    29\n",
      "4    32\n",
      "Name: Years, dtype: int64\n",
      "\n",
      "Row at index 1:\n",
      "Name       SNEHASIS\n",
      "Years            27\n",
      "City     SAKHIGOPAL\n",
      "Name: 1, dtype: object\n"
     ]
    }
   ],
   "source": [
    "# Load data from the specified CSV file\n",
    "file_path = r'C:\\Users\\davul\\OneDrive\\Desktop\\2ndsem\\datavis\\people_data.csv'\n",
    "df = pd.read_csv(file_path)\n",
    "\n",
    "# Renaming the 'Age' column to 'Years'\n",
    "df.rename(columns={'Age': 'Years'}, inplace=True)\n",
    "\n",
    "# Isolating the 'Years' column\n",
    "years_column = df['Years']\n",
    "print(\"Years Column:\")\n",
    "print(years_column)\n",
    "\n",
    "# Isolating a row using integer index\n",
    "row_1 = df.loc[1]  # Accessing the second row (index 1)\n",
    "print(\"\\nRow at index 1:\")\n",
    "print(row_1)"
   ]
  },
  {
   "cell_type": "markdown",
   "id": "5f5beb70-1463-4665-891e-cea6a4cce3fb",
   "metadata": {},
   "source": [
    "## 11. Data cleaning in Pandas (Empty cells, Data in wrong format, Wrong data, Duplicates)\n"
   ]
  },
  {
   "cell_type": "code",
   "execution_count": 18,
   "id": "a46ce79e-c7b0-4842-9022-cbfb2dbe199a",
   "metadata": {},
   "outputs": [
    {
     "name": "stdout",
     "output_type": "stream",
     "text": [
      "Name     0\n",
      "Years    0\n",
      "City     0\n",
      "dtype: int64\n"
     ]
    }
   ],
   "source": [
    "# Removing duplicates\n",
    "df = df.drop_duplicates()\n",
    "\n",
    "# Checking for empty cells\n",
    "print(df.isnull().sum())\n",
    "\n",
    "# Convert data types if necessary\n",
    "df['Years'] = df['Years'].astype(int)  # Ensure 'Years' is an integer"
   ]
  },
  {
   "cell_type": "markdown",
   "id": "1451281c-997a-41bc-af12-53413c70e8f6",
   "metadata": {},
   "source": [
    "## 12. Data analysis in Pandas."
   ]
  },
  {
   "cell_type": "code",
   "execution_count": 19,
   "id": "153e5cf8-0a82-4e0d-bbcb-de660d6ab08a",
   "metadata": {},
   "outputs": [
    {
     "name": "stdout",
     "output_type": "stream",
     "text": [
      "           Years\n",
      "count   5.000000\n",
      "mean   26.800000\n",
      "std     3.962323\n",
      "min    22.000000\n",
      "25%    24.000000\n",
      "50%    27.000000\n",
      "75%    29.000000\n",
      "max    32.000000\n"
     ]
    }
   ],
   "source": [
    "# Basic statistics\n",
    "print(df.describe())"
   ]
  },
  {
   "cell_type": "markdown",
   "id": "a4bc12c4-6f71-4616-bec3-32fde5b84e06",
   "metadata": {},
   "source": [
    "## 13. Pandas - Data Correlations\n"
   ]
  },
  {
   "cell_type": "code",
   "execution_count": 20,
   "id": "3c07187c-bb56-4919-b430-fd828c015efc",
   "metadata": {},
   "outputs": [
    {
     "name": "stdout",
     "output_type": "stream",
     "text": [
      "Correlation Matrix:\n",
      "       Years\n",
      "Years    1.0\n"
     ]
    }
   ],
   "source": [
    "# Compute the correlation matrix using only numeric columns\n",
    "correlation_matrix = df[['Years']].corr()  # Only 'Years' is numeric\n",
    "print(\"Correlation Matrix:\")\n",
    "print(correlation_matrix)"
   ]
  },
  {
   "cell_type": "markdown",
   "id": "64f80682-9afd-4466-9af3-0eda5a564709",
   "metadata": {},
   "source": [
    "## 14. Groupby functions in Pandas."
   ]
  },
  {
   "cell_type": "code",
   "execution_count": 21,
   "id": "6a960b0b-61de-43fa-bb13-0860fe6893db",
   "metadata": {},
   "outputs": [
    {
     "name": "stdout",
     "output_type": "stream",
     "text": [
      "City\n",
      "BANGALORE     24.0\n",
      "BERHAMPUR     29.0\n",
      "JATANI        32.0\n",
      "KHORDHA       22.0\n",
      "SAKHIGOPAL    27.0\n",
      "Name: Years, dtype: float64\n"
     ]
    }
   ],
   "source": [
    "# Grouping by City and calculating the mean age\n",
    "grouped_df = df.groupby('City')['Years'].mean()\n",
    "print(grouped_df)"
   ]
  },
  {
   "cell_type": "markdown",
   "id": "e1fda988-e4b8-41a3-b352-b58faa9f5092",
   "metadata": {},
   "source": [
    "## 15. Different types of join in Pandas."
   ]
  },
  {
   "cell_type": "code",
   "execution_count": 22,
   "id": "f74a6e33-fd46-4bbb-bbe6-80f565e84e64",
   "metadata": {},
   "outputs": [
    {
     "name": "stdout",
     "output_type": "stream",
     "text": [
      "Inner Join:\n",
      "     Name  Years       City  Salary\n",
      "0   EFRON     24  BANGALORE   50000\n",
      "1      OM     22    KHORDHA   60000\n",
      "2  RAJESH     29  BERHAMPUR   70000\n",
      "\n",
      "Outer Join:\n",
      "       Name  Years        City   Salary\n",
      "0      ANIL    NaN         NaN  80000.0\n",
      "1     EFRON   24.0   BANGALORE  50000.0\n",
      "2        OM   22.0     KHORDHA  60000.0\n",
      "3     RAGHU   32.0      JATANI      NaN\n",
      "4    RAJESH   29.0   BERHAMPUR  70000.0\n",
      "5  SNEHASIS   27.0  SAKHIGOPAL      NaN\n",
      "\n",
      "Left Join:\n",
      "       Name  Years        City   Salary\n",
      "0     EFRON     24   BANGALORE  50000.0\n",
      "1  SNEHASIS     27  SAKHIGOPAL      NaN\n",
      "2        OM     22     KHORDHA  60000.0\n",
      "3    RAJESH     29   BERHAMPUR  70000.0\n",
      "4     RAGHU     32      JATANI      NaN\n",
      "\n",
      "Right Join:\n",
      "     Name  Years       City  Salary\n",
      "0   EFRON   24.0  BANGALORE   50000\n",
      "1      OM   22.0    KHORDHA   60000\n",
      "2  RAJESH   29.0  BERHAMPUR   70000\n",
      "3    ANIL    NaN        NaN   80000\n"
     ]
    }
   ],
   "source": [
    "import pandas as pd\n",
    "\n",
    "# Creating the first DataFrame\n",
    "data1 = {\n",
    "    'Name': ['EFRON', 'SNEHASIS', 'OM', 'RAJESH', 'RAGHU'],\n",
    "    'Years': [24, 27, 22, 29, 32],\n",
    "    'City': ['BANGALORE', 'SAKHIGOPAL', 'KHORDHA', 'BERHAMPUR', 'JATANI']\n",
    "}\n",
    "df1 = pd.DataFrame(data1)\n",
    "\n",
    "# Creating the second DataFrame\n",
    "data2 = {\n",
    "    'Name': ['EFRON', 'OM', 'RAJESH', 'ANIL'],\n",
    "    'Salary': [50000, 60000, 70000, 80000]\n",
    "}\n",
    "df2 = pd.DataFrame(data2)\n",
    "\n",
    "# Inner Join\n",
    "inner_join = pd.merge(df1, df2, on='Name', how='inner')\n",
    "print(\"Inner Join:\")\n",
    "print(inner_join)\n",
    "\n",
    "# Outer Join\n",
    "outer_join = pd.merge(df1, df2, on='Name', how='outer')\n",
    "print(\"\\nOuter Join:\")\n",
    "print(outer_join)\n",
    "\n",
    "# Left Join\n",
    "left_join = pd.merge(df1, df2, on='Name', how='left')\n",
    "print(\"\\nLeft Join:\")\n",
    "print(left_join)\n",
    "\n",
    "# Right Join\n",
    "right_join = pd.merge(df1, df2, on='Name', how='right')\n",
    "print(\"\\nRight Join:\")\n",
    "print(right_join)"
   ]
  }
 ],
 "metadata": {
  "kernelspec": {
   "display_name": "Python 3 (ipykernel)",
   "language": "python",
   "name": "python3"
  },
  "language_info": {
   "codemirror_mode": {
    "name": "ipython",
    "version": 3
   },
   "file_extension": ".py",
   "mimetype": "text/x-python",
   "name": "python",
   "nbconvert_exporter": "python",
   "pygments_lexer": "ipython3",
   "version": "3.12.7"
  }
 },
 "nbformat": 4,
 "nbformat_minor": 5
}
