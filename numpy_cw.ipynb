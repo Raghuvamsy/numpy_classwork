{
 "cells": [
  {
   "cell_type": "code",
   "execution_count": 1,
   "id": "d89bf416-8fc5-4a14-a7a0-e6ec346b5048",
   "metadata": {},
   "outputs": [],
   "source": [
    "import numpy as np\n"
   ]
  },
  {
   "cell_type": "markdown",
   "id": "f9b5bd9b-0277-49ab-893d-5745473b6d7a",
   "metadata": {},
   "source": [
    "# 1.Arrays: 0-D, 1-D, 2-D, 3-D, 4-D."
   ]
  },
  {
   "cell_type": "markdown",
   "id": "9b9c3610-3116-4507-b1c0-f1f142afea74",
   "metadata": {},
   "source": [
    "## 0D array (scalar)"
   ]
  },
  {
   "cell_type": "code",
   "execution_count": 2,
   "id": "e12f7e10-edea-4ff3-8945-3f0b87f436b2",
   "metadata": {},
   "outputs": [
    {
     "name": "stdout",
     "output_type": "stream",
     "text": [
      "0D array: 42\n"
     ]
    }
   ],
   "source": [
    "array_0d = np.array(42)\n",
    "print(\"0D array:\", array_0d)"
   ]
  },
  {
   "cell_type": "markdown",
   "id": "aba732e1-100e-4106-853f-39cffefe813a",
   "metadata": {},
   "source": [
    "## 1d array (vector)"
   ]
  },
  {
   "cell_type": "code",
   "execution_count": 3,
   "id": "c50bcf48-792a-4b43-879d-8637acd4eb30",
   "metadata": {},
   "outputs": [
    {
     "name": "stdout",
     "output_type": "stream",
     "text": [
      "1D array: [1 2 3 4 5]\n"
     ]
    }
   ],
   "source": [
    "array_1d = np.array([1, 2, 3, 4, 5])\n",
    "print(\"1D array:\", array_1d)"
   ]
  },
  {
   "cell_type": "markdown",
   "id": "f3bc5e5d-ac4a-4b49-89db-8865c7ddd479",
   "metadata": {},
   "source": [
    "## 2D array (matrix)"
   ]
  },
  {
   "cell_type": "code",
   "execution_count": 4,
   "id": "df221838-fba0-4b69-853e-3c2f3d5a903a",
   "metadata": {},
   "outputs": [
    {
     "name": "stdout",
     "output_type": "stream",
     "text": [
      "2D array:\n",
      " [[1 2 3]\n",
      " [4 5 6]]\n"
     ]
    }
   ],
   "source": [
    "array_2d = np.array([[1, 2, 3], [4, 5, 6]])\n",
    "print(\"2D array:\\n\", array_2d)"
   ]
  },
  {
   "cell_type": "markdown",
   "id": "98a5e8c7-235a-4163-ac75-a949b56ff5de",
   "metadata": {},
   "source": [
    "## 3D array (tensor)"
   ]
  },
  {
   "cell_type": "code",
   "execution_count": 5,
   "id": "31ce0352-c457-423c-ab20-90adee510238",
   "metadata": {},
   "outputs": [
    {
     "name": "stdout",
     "output_type": "stream",
     "text": [
      "3D array:\n",
      " [[[1 2]\n",
      "  [3 4]]\n",
      "\n",
      " [[5 6]\n",
      "  [7 8]]]\n"
     ]
    }
   ],
   "source": [
    "array_3d = np.array([[[1, 2], [3, 4]], [[5, 6], [7, 8]]])\n",
    "print(\"3D array:\\n\", array_3d)"
   ]
  },
  {
   "cell_type": "markdown",
   "id": "b462a5a8-408a-4a83-a2ed-07f7bef675a9",
   "metadata": {},
   "source": [
    "## 4D array"
   ]
  },
  {
   "cell_type": "code",
   "execution_count": 6,
   "id": "960f5ac1-952c-41b7-87ca-9c4a88d72a45",
   "metadata": {},
   "outputs": [
    {
     "name": "stdout",
     "output_type": "stream",
     "text": [
      "4D array:\n",
      " [[[[ 1  2]\n",
      "   [ 3  4]]\n",
      "\n",
      "  [[ 5  6]\n",
      "   [ 7  8]]]\n",
      "\n",
      "\n",
      " [[[ 9 10]\n",
      "   [11 12]]\n",
      "\n",
      "  [[13 14]\n",
      "   [15 16]]]]\n"
     ]
    }
   ],
   "source": [
    "array_4d = np.array([[[[1, 2], [3, 4]], [[5, 6], [7, 8]]], [[[9, 10], [11, 12]], [[13, 14], [15, 16]]]])\n",
    "print(\"4D array:\\n\", array_4d)\n"
   ]
  },
  {
   "cell_type": "markdown",
   "id": "5384b1e0-9de8-4854-9095-a8c0dfb59d9a",
   "metadata": {},
   "source": [
    "# 2.Memory allocation"
   ]
  },
  {
   "cell_type": "code",
   "execution_count": 7,
   "id": "64140d29-a54a-486d-b83d-7ec1e801cb06",
   "metadata": {},
   "outputs": [
    {
     "name": "stdout",
     "output_type": "stream",
     "text": [
      "Size of each element: 8\n",
      "Total bytes occupied: 40\n"
     ]
    }
   ],
   "source": [
    "arr = np.array([1, 2, 3, 4, 5])\n",
    "print(\"Size of each element:\", arr.itemsize)\n",
    "print(\"Total bytes occupied:\", arr.nbytes)"
   ]
  },
  {
   "cell_type": "markdown",
   "id": "0b8b1036-68d8-455b-9d93-5ea69b800802",
   "metadata": {},
   "source": [
    "# 3.Attributes of Array"
   ]
  },
  {
   "cell_type": "code",
   "execution_count": 8,
   "id": "bdf40de3-e88f-4be2-b373-21011270f52b",
   "metadata": {},
   "outputs": [
    {
     "name": "stdout",
     "output_type": "stream",
     "text": [
      "Shape: (5,)\n",
      "Size: 5\n",
      "Data Type: int64\n",
      "Dimension: 1\n"
     ]
    }
   ],
   "source": [
    "print(\"Shape:\", arr.shape)\n",
    "print(\"Size:\", arr.size)\n",
    "print(\"Data Type:\", arr.dtype)\n",
    "print(\"Dimension:\", arr.ndim)"
   ]
  },
  {
   "cell_type": "markdown",
   "id": "0efdf1b0-417d-4181-98f4-6a0d4c2795be",
   "metadata": {},
   "source": [
    "# 4.Datatypes in NumPy"
   ]
  },
  {
   "cell_type": "code",
   "execution_count": 9,
   "id": "89621f88-f4d8-4d55-9914-9297d0c13044",
   "metadata": {},
   "outputs": [
    {
     "name": "stdout",
     "output_type": "stream",
     "text": [
      "int32 float64 complex128 bool\n"
     ]
    }
   ],
   "source": [
    "arr_int = np.array([1, 2, 3], dtype=np.int32)\n",
    "arr_float = np.array([1.5, 2.6, 3.1], dtype=np.float64)\n",
    "arr_complex = np.array([1+2j, 3+4j])\n",
    "arr_bool = np.array([True, False, True])\n",
    "\n",
    "print(arr_int.dtype, arr_float.dtype, arr_complex.dtype, arr_bool.dtype)"
   ]
  },
  {
   "cell_type": "markdown",
   "id": "14cdb94f-191a-40a4-86b9-5bdd16c1bf31",
   "metadata": {},
   "source": [
    "# 5.Interchange of Datatype in NumPy"
   ]
  },
  {
   "cell_type": "code",
   "execution_count": 10,
   "id": "f7ddc223-ad48-4358-b752-36c42a446a52",
   "metadata": {},
   "outputs": [
    {
     "name": "stdout",
     "output_type": "stream",
     "text": [
      "Before: int64\n",
      "After: float64\n"
     ]
    }
   ],
   "source": [
    "arr = np.array([1, 2, 3, 4])\n",
    "print(\"Before:\", arr.dtype)\n",
    "arr_float = arr.astype(np.float64) \n",
    "print(\"After:\", arr_float.dtype)"
   ]
  },
  {
   "cell_type": "markdown",
   "id": "16496cd3-af40-403b-9065-12d915e2d0ee",
   "metadata": {},
   "source": [
    "# 6.Array Manipulation: Flipping, Stacking, Joining"
   ]
  },
  {
   "cell_type": "markdown",
   "id": "1274d8d5-af24-4735-9986-e748cea21afa",
   "metadata": {},
   "source": [
    "Flip along axis"
   ]
  },
  {
   "cell_type": "code",
   "execution_count": 11,
   "id": "e2c005a5-bb1f-4408-aaa5-f3dcdff7116c",
   "metadata": {},
   "outputs": [
    {
     "name": "stdout",
     "output_type": "stream",
     "text": [
      "[[4 3]\n",
      " [2 1]]\n",
      "[[3 4]\n",
      " [1 2]]\n",
      "[[2 1]\n",
      " [4 3]]\n"
     ]
    }
   ],
   "source": [
    "\n",
    "arr = np.array([[1, 2], [3, 4]])\n",
    "print(np.flip(arr))\n",
    "print(np.flipud(arr))\n",
    "print(np.fliplr(arr))\n"
   ]
  },
  {
   "cell_type": "markdown",
   "id": "e8844f46-9c95-40d6-8eba-ea99a6a48fca",
   "metadata": {},
   "source": [
    "Stacking"
   ]
  },
  {
   "cell_type": "code",
   "execution_count": 12,
   "id": "f2dbed42-926a-49f9-8f39-0649cf41c37c",
   "metadata": {},
   "outputs": [
    {
     "name": "stdout",
     "output_type": "stream",
     "text": [
      "[[1 2 3]\n",
      " [4 5 6]]\n",
      "[1 2 3 4 5 6]\n"
     ]
    }
   ],
   "source": [
    "arr1 = np.array([1, 2, 3])\n",
    "arr2 = np.array([4, 5, 6])\n",
    "print(np.vstack((arr1, arr2)))\n",
    "print(np.hstack((arr1, arr2))) "
   ]
  },
  {
   "cell_type": "markdown",
   "id": "bc3d6cf7-202d-4392-ab27-0e7646e1fb1f",
   "metadata": {},
   "source": [
    "Joining\n"
   ]
  },
  {
   "cell_type": "code",
   "execution_count": 13,
   "id": "a0d6bdfa-4ad0-4af6-bd1f-8e8775ea412d",
   "metadata": {},
   "outputs": [
    {
     "name": "stdout",
     "output_type": "stream",
     "text": [
      "[1 2 3 4 5 6]\n"
     ]
    }
   ],
   "source": [
    "\n",
    "print(np.concatenate((arr1, arr2)))"
   ]
  },
  {
   "cell_type": "markdown",
   "id": "425d8a04-776f-4ea0-b86b-e61975a46fb8",
   "metadata": {},
   "source": [
    "# 7.NumPy Arithmetic Operations: Elementwise, Scalar"
   ]
  },
  {
   "cell_type": "code",
   "execution_count": 14,
   "id": "761ac168-1976-40e6-9467-24d923dcdaf8",
   "metadata": {},
   "outputs": [
    {
     "name": "stdout",
     "output_type": "stream",
     "text": [
      "[3 4 5 6]\n",
      "[2 4 6 8]\n",
      "[2 4 6 8]\n",
      "[ 1  4  9 16]\n"
     ]
    }
   ],
   "source": [
    "arr = np.array([1, 2, 3, 4])\n",
    "print(arr + 2)\n",
    "print(arr * 2)  \n",
    "print(arr + arr)  \n",
    "print(arr * arr)  "
   ]
  },
  {
   "cell_type": "markdown",
   "id": "41c71451-3935-40e2-8e3b-55969502732b",
   "metadata": {},
   "source": [
    "# 8.Sorting in Array"
   ]
  },
  {
   "cell_type": "code",
   "execution_count": 15,
   "id": "33001ab8-7370-4ecb-9cb5-d9517eb70d36",
   "metadata": {},
   "outputs": [
    {
     "name": "stdout",
     "output_type": "stream",
     "text": [
      "[1 1 3 4 5 9]\n"
     ]
    }
   ],
   "source": [
    "arr = np.array([3, 1, 4, 1, 5, 9])\n",
    "print(np.sort(arr))"
   ]
  },
  {
   "cell_type": "markdown",
   "id": "b48a512c-6213-49c3-a837-e02476758da7",
   "metadata": {},
   "source": [
    "# 9.Array Slicing"
   ]
  },
  {
   "cell_type": "code",
   "execution_count": 16,
   "id": "e0a5da3b-978e-4ffd-a96e-f0ab447c2adc",
   "metadata": {},
   "outputs": [
    {
     "name": "stdout",
     "output_type": "stream",
     "text": [
      "[2 3 4 5]\n",
      "[1 2 3]\n",
      "[4 5 6]\n"
     ]
    }
   ],
   "source": [
    "\n",
    "arr = np.array([1, 2, 3, 4, 5, 6])\n",
    "print(arr[1:5])  \n",
    "print(arr[:3])  \n",
    "print(arr[-3:]) "
   ]
  },
  {
   "cell_type": "markdown",
   "id": "b25041da-39cb-45bc-ac10-4bb36c673ac2",
   "metadata": {},
   "source": [
    "# 10.Array Filter"
   ]
  },
  {
   "cell_type": "code",
   "execution_count": 17,
   "id": "7bf9ee86-cdc7-4094-8277-b12fd3ace8e2",
   "metadata": {},
   "outputs": [
    {
     "name": "stdout",
     "output_type": "stream",
     "text": [
      "[30 40 50]\n"
     ]
    }
   ],
   "source": [
    "arr = np.array([10, 20, 30, 40, 50])\n",
    "filtered_arr = arr[arr > 25]  \n",
    "print(filtered_arr)"
   ]
  },
  {
   "cell_type": "markdown",
   "id": "6344b548-2a60-4fd2-b14e-b1205cc2b20e",
   "metadata": {},
   "source": [
    "# 11. Array Iteration"
   ]
  },
  {
   "cell_type": "code",
   "execution_count": 18,
   "id": "e6d69cb8-0e55-4c2e-98fa-2fdcfe940237",
   "metadata": {},
   "outputs": [
    {
     "name": "stdout",
     "output_type": "stream",
     "text": [
      "1 2 3 4 5 6 "
     ]
    }
   ],
   "source": [
    "arr = np.array([[1, 2, 3], [4, 5, 6]])\n",
    "for row in arr:\n",
    "    for elem in row:\n",
    "        print(elem, end=\" \")"
   ]
  },
  {
   "cell_type": "markdown",
   "id": "4e8c3701-ced2-4ea5-8abc-622411d87a56",
   "metadata": {},
   "source": [
    "# 12.Array Search"
   ]
  },
  {
   "cell_type": "code",
   "execution_count": 19,
   "id": "d506c1d1-4802-4f13-9ee0-1243ab95233d",
   "metadata": {},
   "outputs": [
    {
     "name": "stdout",
     "output_type": "stream",
     "text": [
      "Index of 30: (array([2]),)\n"
     ]
    }
   ],
   "source": [
    "arr = np.array([10, 20, 30, 40, 50])\n",
    "index = np.where(arr == 30)\n",
    "print(\"Index of 30:\", index)\n"
   ]
  },
  {
   "cell_type": "markdown",
   "id": "55da245e-1b0c-46e6-8d0c-0de0dc30f396",
   "metadata": {},
   "source": [
    "# 13.Arrays with linspace()"
   ]
  },
  {
   "cell_type": "code",
   "execution_count": 20,
   "id": "438c8633-b39f-441d-8c66-d0f9ed7ce574",
   "metadata": {},
   "outputs": [
    {
     "name": "stdout",
     "output_type": "stream",
     "text": [
      "[ 0.   2.5  5.   7.5 10. ]\n"
     ]
    }
   ],
   "source": [
    "arr = np.linspace(0, 10, 5)  \n",
    "print(arr)"
   ]
  },
  {
   "cell_type": "markdown",
   "id": "79ce93e1-15b8-45f6-868f-b5582d9e8273",
   "metadata": {},
   "source": [
    "# 14.Types of Arrays: Zero array, one array, Full array, Eye array, Random number array, identity and diagonal array. \n"
   ]
  },
  {
   "cell_type": "markdown",
   "id": "430fffc3-69ad-483e-b61e-e2e4ba9a2cbd",
   "metadata": {},
   "source": [
    "## Zero array"
   ]
  },
  {
   "cell_type": "code",
   "execution_count": 21,
   "id": "2cf83591-dec0-4527-a0ef-c844df1fc8df",
   "metadata": {},
   "outputs": [
    {
     "name": "stdout",
     "output_type": "stream",
     "text": [
      "[[0. 0. 0.]\n",
      " [0. 0. 0.]\n",
      " [0. 0. 0.]]\n"
     ]
    }
   ],
   "source": [
    "\n",
    "\n",
    "zero_arr = np.zeros((3, 3))\n",
    "print(zero_arr)\n"
   ]
  },
  {
   "cell_type": "markdown",
   "id": "68c08850-cf8d-4b01-8e67-9b0babb2b732",
   "metadata": {},
   "source": [
    "## one array"
   ]
  },
  {
   "cell_type": "code",
   "execution_count": 22,
   "id": "30c44758-8657-4342-b34f-5201631aedf1",
   "metadata": {},
   "outputs": [
    {
     "name": "stdout",
     "output_type": "stream",
     "text": [
      "[[1. 1. 1.]\n",
      " [1. 1. 1.]\n",
      " [1. 1. 1.]]\n"
     ]
    }
   ],
   "source": [
    "one_arr = np.ones((3, 3))\n",
    "print(one_arr)"
   ]
  },
  {
   "cell_type": "markdown",
   "id": "8aafff0e-2d55-4a3e-a40e-c85c75c55082",
   "metadata": {},
   "source": [
    "## Full array"
   ]
  },
  {
   "cell_type": "code",
   "execution_count": 23,
   "id": "a9e9927b-a7ef-4866-8f21-6caf1bcf34ef",
   "metadata": {},
   "outputs": [
    {
     "name": "stdout",
     "output_type": "stream",
     "text": [
      "[[7 7 7]\n",
      " [7 7 7]\n",
      " [7 7 7]]\n"
     ]
    }
   ],
   "source": [
    "full_arr = np.full((3, 3), 7)\n",
    "print(full_arr)"
   ]
  },
  {
   "cell_type": "markdown",
   "id": "e3f6123a-3f4e-4c61-95f9-f315484caf75",
   "metadata": {},
   "source": [
    "\n",
    "## Eye array \n"
   ]
  },
  {
   "cell_type": "code",
   "execution_count": 24,
   "id": "cd8d18ad-328a-468c-8f2f-17a8dede14c2",
   "metadata": {},
   "outputs": [
    {
     "name": "stdout",
     "output_type": "stream",
     "text": [
      "\n",
      "Eye Array (Identity Matrix):\n",
      " [[1. 0. 0.]\n",
      " [0. 1. 0.]\n",
      " [0. 0. 1.]]\n"
     ]
    }
   ],
   "source": [
    "eye_arr = np.eye(3)\n",
    "print(\"\\nEye Array (Identity Matrix):\\n\", eye_arr)\n",
    "\n"
   ]
  },
  {
   "cell_type": "markdown",
   "id": "065841e3-52a1-4748-a333-9f5152e0ce85",
   "metadata": {},
   "source": [
    "## Random number array\n"
   ]
  },
  {
   "cell_type": "code",
   "execution_count": 25,
   "id": "78d108f6-eb64-4940-9dbc-435c9000c482",
   "metadata": {},
   "outputs": [
    {
     "name": "stdout",
     "output_type": "stream",
     "text": [
      "\n",
      "Random Number Array:\n",
      " [[0.24081735 0.80410653 0.17169066]\n",
      " [0.30040388 0.43355982 0.98199204]\n",
      " [0.31424882 0.06239453 0.26683101]]\n"
     ]
    }
   ],
   "source": [
    "rand_arr = np.random.rand(3, 3)\n",
    "print(\"\\nRandom Number Array:\\n\", rand_arr)\n",
    "\n"
   ]
  },
  {
   "cell_type": "markdown",
   "id": "5da2b56a-dd81-4fa4-a2c0-c0ffeb76fd0c",
   "metadata": {},
   "source": [
    "## Identity array (same as eye)\n"
   ]
  },
  {
   "cell_type": "code",
   "execution_count": 26,
   "id": "5cb8efa3-f243-4f6c-b2ac-2e8b438ee515",
   "metadata": {},
   "outputs": [
    {
     "name": "stdout",
     "output_type": "stream",
     "text": [
      "\n",
      "Identity Array:\n",
      " [[1. 0. 0.]\n",
      " [0. 1. 0.]\n",
      " [0. 0. 1.]]\n"
     ]
    }
   ],
   "source": [
    "identity_arr = np.identity(3)\n",
    "print(\"\\nIdentity Array:\\n\", identity_arr)\n",
    "\n",
    "\n"
   ]
  },
  {
   "cell_type": "markdown",
   "id": "6fc2a3a8-eaaa-4d61-b369-d02a7fec3065",
   "metadata": {},
   "source": [
    "## Diagonal array\n"
   ]
  },
  {
   "cell_type": "code",
   "execution_count": 27,
   "id": "e06cc959-5ec0-4ad7-b1fe-341c3cb1edf9",
   "metadata": {},
   "outputs": [
    {
     "name": "stdout",
     "output_type": "stream",
     "text": [
      "\n",
      "Diagonal Array:\n",
      " [[1 0 0]\n",
      " [0 2 0]\n",
      " [0 0 3]]\n"
     ]
    }
   ],
   "source": [
    "diag_arr = np.diag([1, 2, 3])\n",
    "print(\"\\nDiagonal Array:\\n\", diag_arr)"
   ]
  }
 ],
 "metadata": {
  "kernelspec": {
   "display_name": "Python 3 (ipykernel)",
   "language": "python",
   "name": "python3"
  },
  "language_info": {
   "codemirror_mode": {
    "name": "ipython",
    "version": 3
   },
   "file_extension": ".py",
   "mimetype": "text/x-python",
   "name": "python",
   "nbconvert_exporter": "python",
   "pygments_lexer": "ipython3",
   "version": "3.12.7"
  }
 },
 "nbformat": 4,
 "nbformat_minor": 5
}
